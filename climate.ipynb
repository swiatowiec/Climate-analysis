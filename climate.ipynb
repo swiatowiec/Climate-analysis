{
 "metadata": {
  "language_info": {
   "codemirror_mode": {
    "name": "ipython",
    "version": 3
   },
   "file_extension": ".py",
   "mimetype": "text/x-python",
   "name": "python",
   "nbconvert_exporter": "python",
   "pygments_lexer": "ipython3",
   "version": "3.8.5"
  },
  "orig_nbformat": 2,
  "kernelspec": {
   "name": "python385jvsc74a57bd041a0396a08ea0ef5d632f3e150c6b4e8b46b8b1b559fc0bab567ed5ff3932c90",
   "display_name": "Python 3.8.5 64-bit (conda)"
  }
 },
 "nbformat": 4,
 "nbformat_minor": 2,
 "cells": [
  {
   "source": [
    "# Climate analysis"
   ],
   "cell_type": "markdown",
   "metadata": {}
  },
  {
   "cell_type": "code",
   "execution_count": 1,
   "metadata": {},
   "outputs": [],
   "source": [
    "import pandas as pd \n",
    "import numpy as np \n",
    "import seaborn as sb\n",
    "import matplotlib.pyplot as plt\n",
    "from matplotlib import style \n"
   ]
  },
  {
   "cell_type": "code",
   "execution_count": 2,
   "metadata": {},
   "outputs": [
    {
     "output_type": "execute_result",
     "data": {
      "text/plain": [
       "      Y  M  D    T    TM   Tm SLP STP   H PP    VV    V    VM VG  FG  RA  SN  \\\n",
       "0  1991  1  1  5.3   9.6  0.0   -   -  86  0   3.4  2.4    13  -   1   0   0   \n",
       "1  1991  1  2  2.6   6.4  0.0   -   -  88  0   3.7  4.1  11.1  -   1   0   0   \n",
       "2  1991  1  3  2.3   5.2 -1.0   -   -  87  0   2.6  2.0   9.4  -   1   0   0   \n",
       "3  1991  1  4  3.9  10.0  0.0   -   -  63  0   8.0  4.4  25.9  -   1   0   0   \n",
       "4  1991  1  5  2.9  10.4 -3.0   -   -  69  0  10.5  5.2  18.3  -   0   0   0   \n",
       "\n",
       "   GR  TS  TR  \n",
       "0   0   0   0  \n",
       "1   0   0   0  \n",
       "2   0   0   0  \n",
       "3   0   0   0  \n",
       "4   0   0   0  "
      ],
      "text/html": "<div>\n<style scoped>\n    .dataframe tbody tr th:only-of-type {\n        vertical-align: middle;\n    }\n\n    .dataframe tbody tr th {\n        vertical-align: top;\n    }\n\n    .dataframe thead th {\n        text-align: right;\n    }\n</style>\n<table border=\"1\" class=\"dataframe\">\n  <thead>\n    <tr style=\"text-align: right;\">\n      <th></th>\n      <th>Y</th>\n      <th>M</th>\n      <th>D</th>\n      <th>T</th>\n      <th>TM</th>\n      <th>Tm</th>\n      <th>SLP</th>\n      <th>STP</th>\n      <th>H</th>\n      <th>PP</th>\n      <th>VV</th>\n      <th>V</th>\n      <th>VM</th>\n      <th>VG</th>\n      <th>FG</th>\n      <th>RA</th>\n      <th>SN</th>\n      <th>GR</th>\n      <th>TS</th>\n      <th>TR</th>\n    </tr>\n  </thead>\n  <tbody>\n    <tr>\n      <th>0</th>\n      <td>1991</td>\n      <td>1</td>\n      <td>1</td>\n      <td>5.3</td>\n      <td>9.6</td>\n      <td>0.0</td>\n      <td>-</td>\n      <td>-</td>\n      <td>86</td>\n      <td>0</td>\n      <td>3.4</td>\n      <td>2.4</td>\n      <td>13</td>\n      <td>-</td>\n      <td>1</td>\n      <td>0</td>\n      <td>0</td>\n      <td>0</td>\n      <td>0</td>\n      <td>0</td>\n    </tr>\n    <tr>\n      <th>1</th>\n      <td>1991</td>\n      <td>1</td>\n      <td>2</td>\n      <td>2.6</td>\n      <td>6.4</td>\n      <td>0.0</td>\n      <td>-</td>\n      <td>-</td>\n      <td>88</td>\n      <td>0</td>\n      <td>3.7</td>\n      <td>4.1</td>\n      <td>11.1</td>\n      <td>-</td>\n      <td>1</td>\n      <td>0</td>\n      <td>0</td>\n      <td>0</td>\n      <td>0</td>\n      <td>0</td>\n    </tr>\n    <tr>\n      <th>2</th>\n      <td>1991</td>\n      <td>1</td>\n      <td>3</td>\n      <td>2.3</td>\n      <td>5.2</td>\n      <td>-1.0</td>\n      <td>-</td>\n      <td>-</td>\n      <td>87</td>\n      <td>0</td>\n      <td>2.6</td>\n      <td>2.0</td>\n      <td>9.4</td>\n      <td>-</td>\n      <td>1</td>\n      <td>0</td>\n      <td>0</td>\n      <td>0</td>\n      <td>0</td>\n      <td>0</td>\n    </tr>\n    <tr>\n      <th>3</th>\n      <td>1991</td>\n      <td>1</td>\n      <td>4</td>\n      <td>3.9</td>\n      <td>10.0</td>\n      <td>0.0</td>\n      <td>-</td>\n      <td>-</td>\n      <td>63</td>\n      <td>0</td>\n      <td>8.0</td>\n      <td>4.4</td>\n      <td>25.9</td>\n      <td>-</td>\n      <td>1</td>\n      <td>0</td>\n      <td>0</td>\n      <td>0</td>\n      <td>0</td>\n      <td>0</td>\n    </tr>\n    <tr>\n      <th>4</th>\n      <td>1991</td>\n      <td>1</td>\n      <td>5</td>\n      <td>2.9</td>\n      <td>10.4</td>\n      <td>-3.0</td>\n      <td>-</td>\n      <td>-</td>\n      <td>69</td>\n      <td>0</td>\n      <td>10.5</td>\n      <td>5.2</td>\n      <td>18.3</td>\n      <td>-</td>\n      <td>0</td>\n      <td>0</td>\n      <td>0</td>\n      <td>0</td>\n      <td>0</td>\n      <td>0</td>\n    </tr>\n  </tbody>\n</table>\n</div>"
     },
     "metadata": {},
     "execution_count": 2
    }
   ],
   "source": [
    "df = pd.read_excel('82210-1.xlsx')\n",
    "df.head()"
   ]
  },
  {
   "cell_type": "code",
   "execution_count": 3,
   "metadata": {},
   "outputs": [
    {
     "output_type": "execute_result",
     "data": {
      "text/plain": [
       "         Y   M   D     T    TM   Tm     SLP    STP   H     PP    VV     V  \\\n",
       "1821  1995  12  27   9.7  11.0  6.5  1008.8  941.1  87    6.1  10.1  11.7   \n",
       "1822  1995  12  28  11.3  14.0  8.0  1012.8    945  78      0  12.4  14.6   \n",
       "1823  1995  12  29   9.0  10.2  7.6  1011.6  943.1  95   7.87   6.9   8.5   \n",
       "1824  1995  12  30  11.5  14.0  8.8  1001.6  935.1  91  21.08  10.3  17.8   \n",
       "1825  1995  12  31  11.3  14.0  8.0  1004.8  937.7  79   1.02  12.4  19.8   \n",
       "\n",
       "        VM    VG  FG  RA  SN  GR  TS  TR  \n",
       "1821  22.2  33.5   0   1   0   0   0   0  \n",
       "1822  22.2  40.7   0   1   0   0   0   0  \n",
       "1823  16.5     -   0   1   0   0   0   0  \n",
       "1824  29.4  53.5   0   1   0   0   0   0  \n",
       "1825    37  51.9   0   1   0   0   0   0  "
      ],
      "text/html": "<div>\n<style scoped>\n    .dataframe tbody tr th:only-of-type {\n        vertical-align: middle;\n    }\n\n    .dataframe tbody tr th {\n        vertical-align: top;\n    }\n\n    .dataframe thead th {\n        text-align: right;\n    }\n</style>\n<table border=\"1\" class=\"dataframe\">\n  <thead>\n    <tr style=\"text-align: right;\">\n      <th></th>\n      <th>Y</th>\n      <th>M</th>\n      <th>D</th>\n      <th>T</th>\n      <th>TM</th>\n      <th>Tm</th>\n      <th>SLP</th>\n      <th>STP</th>\n      <th>H</th>\n      <th>PP</th>\n      <th>VV</th>\n      <th>V</th>\n      <th>VM</th>\n      <th>VG</th>\n      <th>FG</th>\n      <th>RA</th>\n      <th>SN</th>\n      <th>GR</th>\n      <th>TS</th>\n      <th>TR</th>\n    </tr>\n  </thead>\n  <tbody>\n    <tr>\n      <th>1821</th>\n      <td>1995</td>\n      <td>12</td>\n      <td>27</td>\n      <td>9.7</td>\n      <td>11.0</td>\n      <td>6.5</td>\n      <td>1008.8</td>\n      <td>941.1</td>\n      <td>87</td>\n      <td>6.1</td>\n      <td>10.1</td>\n      <td>11.7</td>\n      <td>22.2</td>\n      <td>33.5</td>\n      <td>0</td>\n      <td>1</td>\n      <td>0</td>\n      <td>0</td>\n      <td>0</td>\n      <td>0</td>\n    </tr>\n    <tr>\n      <th>1822</th>\n      <td>1995</td>\n      <td>12</td>\n      <td>28</td>\n      <td>11.3</td>\n      <td>14.0</td>\n      <td>8.0</td>\n      <td>1012.8</td>\n      <td>945</td>\n      <td>78</td>\n      <td>0</td>\n      <td>12.4</td>\n      <td>14.6</td>\n      <td>22.2</td>\n      <td>40.7</td>\n      <td>0</td>\n      <td>1</td>\n      <td>0</td>\n      <td>0</td>\n      <td>0</td>\n      <td>0</td>\n    </tr>\n    <tr>\n      <th>1823</th>\n      <td>1995</td>\n      <td>12</td>\n      <td>29</td>\n      <td>9.0</td>\n      <td>10.2</td>\n      <td>7.6</td>\n      <td>1011.6</td>\n      <td>943.1</td>\n      <td>95</td>\n      <td>7.87</td>\n      <td>6.9</td>\n      <td>8.5</td>\n      <td>16.5</td>\n      <td>-</td>\n      <td>0</td>\n      <td>1</td>\n      <td>0</td>\n      <td>0</td>\n      <td>0</td>\n      <td>0</td>\n    </tr>\n    <tr>\n      <th>1824</th>\n      <td>1995</td>\n      <td>12</td>\n      <td>30</td>\n      <td>11.5</td>\n      <td>14.0</td>\n      <td>8.8</td>\n      <td>1001.6</td>\n      <td>935.1</td>\n      <td>91</td>\n      <td>21.08</td>\n      <td>10.3</td>\n      <td>17.8</td>\n      <td>29.4</td>\n      <td>53.5</td>\n      <td>0</td>\n      <td>1</td>\n      <td>0</td>\n      <td>0</td>\n      <td>0</td>\n      <td>0</td>\n    </tr>\n    <tr>\n      <th>1825</th>\n      <td>1995</td>\n      <td>12</td>\n      <td>31</td>\n      <td>11.3</td>\n      <td>14.0</td>\n      <td>8.0</td>\n      <td>1004.8</td>\n      <td>937.7</td>\n      <td>79</td>\n      <td>1.02</td>\n      <td>12.4</td>\n      <td>19.8</td>\n      <td>37</td>\n      <td>51.9</td>\n      <td>0</td>\n      <td>1</td>\n      <td>0</td>\n      <td>0</td>\n      <td>0</td>\n      <td>0</td>\n    </tr>\n  </tbody>\n</table>\n</div>"
     },
     "metadata": {},
     "execution_count": 3
    }
   ],
   "source": [
    "df.tail()"
   ]
  },
  {
   "source": [
    "df.shape"
   ],
   "cell_type": "code",
   "metadata": {},
   "execution_count": 4,
   "outputs": [
    {
     "output_type": "execute_result",
     "data": {
      "text/plain": [
       "(1826, 20)"
      ]
     },
     "metadata": {},
     "execution_count": 4
    }
   ]
  },
  {
   "cell_type": "code",
   "execution_count": 5,
   "metadata": {},
   "outputs": [],
   "source": [
    "df = df.rename(columns = {\"Y\" : 'year', \"M\" : 'month', \"D\" : \"day\", \"T\" : \"avg_temp\", \"TM\" : \"max_temp\", \"Tm\" : \"min_temp\", \"SLP\" : \"avg_atm_sea\", \"STP\" : \"avg_atm_station\", \"H\" : \"humidity\", \"PP\" : \"rain\", \"VV\" : \"avg_visibility\", \"V\" : \"avg_wind\", \"VM\" : \"max_sustained_wind\" , \"VG\" : \"max_wind\", \"FG\" : \"occ_Fog\", \"RA\" : \"occ_Rain\", \"SN\" : \"occ_Snow\", \"GR\" : \"occ_Hail\", \"TS\" : \"occ_Thunder\", \"TR\" : \"occ_Tornado\"})"
   ]
  },
  {
   "cell_type": "code",
   "execution_count": 6,
   "metadata": {},
   "outputs": [
    {
     "output_type": "execute_result",
     "data": {
      "text/plain": [
       "Index(['year', 'month', 'day', 'avg_temp', 'max_temp', 'min_temp',\n",
       "       'avg_atm_sea', 'avg_atm_station', 'humidity', 'rain', 'avg_visibility',\n",
       "       'avg_wind', 'max_sustained_wind', 'max_wind', 'occ_Fog', 'occ_Rain',\n",
       "       'occ_Snow', 'occ_Hail', 'occ_Thunder', 'occ_Tornado'],\n",
       "      dtype='object')"
      ]
     },
     "metadata": {},
     "execution_count": 6
    }
   ],
   "source": [
    "df.columns"
   ]
  },
  {
   "cell_type": "code",
   "execution_count": 7,
   "metadata": {},
   "outputs": [
    {
     "output_type": "stream",
     "name": "stdout",
     "text": [
      "<class 'pandas.core.frame.DataFrame'>\nRangeIndex: 1826 entries, 0 to 1825\nData columns (total 20 columns):\n #   Column              Non-Null Count  Dtype  \n---  ------              --------------  -----  \n 0   year                1826 non-null   int64  \n 1   month               1826 non-null   int64  \n 2   day                 1826 non-null   int64  \n 3   avg_temp            1826 non-null   float64\n 4   max_temp            1826 non-null   float64\n 5   min_temp            1826 non-null   float64\n 6   avg_atm_sea         1826 non-null   object \n 7   avg_atm_station     1826 non-null   object \n 8   humidity            1826 non-null   object \n 9   rain                1826 non-null   object \n 10  avg_visibility      1826 non-null   float64\n 11  avg_wind            1826 non-null   float64\n 12  max_sustained_wind  1826 non-null   object \n 13  max_wind            1826 non-null   object \n 14  occ_Fog             1826 non-null   int64  \n 15  occ_Rain            1826 non-null   int64  \n 16  occ_Snow            1826 non-null   int64  \n 17  occ_Hail            1826 non-null   int64  \n 18  occ_Thunder         1826 non-null   int64  \n 19  occ_Tornado         1826 non-null   int64  \ndtypes: float64(5), int64(9), object(6)\nmemory usage: 285.4+ KB\n"
     ]
    }
   ],
   "source": [
    "df.info()"
   ]
  },
  {
   "cell_type": "code",
   "execution_count": 8,
   "metadata": {},
   "outputs": [
    {
     "output_type": "execute_result",
     "data": {
      "text/plain": [
       "year                  False\n",
       "month                 False\n",
       "day                   False\n",
       "avg_temp              False\n",
       "max_temp              False\n",
       "min_temp              False\n",
       "avg_atm_sea           False\n",
       "avg_atm_station       False\n",
       "humidity              False\n",
       "rain                  False\n",
       "avg_visibility        False\n",
       "avg_wind              False\n",
       "max_sustained_wind    False\n",
       "max_wind              False\n",
       "occ_Fog               False\n",
       "occ_Rain              False\n",
       "occ_Snow              False\n",
       "occ_Hail              False\n",
       "occ_Thunder           False\n",
       "occ_Tornado           False\n",
       "dtype: bool"
      ]
     },
     "metadata": {},
     "execution_count": 8
    }
   ],
   "source": [
    "df.isna().any()"
   ]
  },
  {
   "cell_type": "code",
   "execution_count": 9,
   "metadata": {},
   "outputs": [
    {
     "output_type": "execute_result",
     "data": {
      "text/plain": [
       "year                    int64\n",
       "month                   int64\n",
       "day                     int64\n",
       "avg_temp              float64\n",
       "max_temp              float64\n",
       "min_temp              float64\n",
       "avg_atm_sea            object\n",
       "avg_atm_station        object\n",
       "humidity               object\n",
       "rain                   object\n",
       "avg_visibility        float64\n",
       "avg_wind              float64\n",
       "max_sustained_wind     object\n",
       "max_wind               object\n",
       "occ_Fog                 int64\n",
       "occ_Rain                int64\n",
       "occ_Snow                int64\n",
       "occ_Hail                int64\n",
       "occ_Thunder             int64\n",
       "occ_Tornado             int64\n",
       "dtype: object"
      ]
     },
     "metadata": {},
     "execution_count": 9
    }
   ],
   "source": [
    "df.dtypes"
   ]
  },
  {
   "source": [
    "### object to float"
   ],
   "cell_type": "markdown",
   "metadata": {}
  },
  {
   "cell_type": "code",
   "execution_count": 10,
   "metadata": {},
   "outputs": [
    {
     "output_type": "execute_result",
     "data": {
      "text/plain": [
       "count     1826\n",
       "unique     272\n",
       "top          -\n",
       "freq       925\n",
       "Name: avg_atm_sea, dtype: object"
      ]
     },
     "metadata": {},
     "execution_count": 10
    }
   ],
   "source": [
    "df[\"avg_atm_sea\"].describe()"
   ]
  },
  {
   "cell_type": "code",
   "execution_count": 11,
   "metadata": {},
   "outputs": [
    {
     "output_type": "execute_result",
     "data": {
      "text/plain": [
       "-         925\n",
       "1013.7     11\n",
       "1013.1     11\n",
       "1018.8     11\n",
       "1013       10\n",
       "         ... \n",
       "1033        1\n",
       "1031.8      1\n",
       "1032        1\n",
       "1032.1      1\n",
       "1023.3      1\n",
       "Name: avg_atm_sea, Length: 272, dtype: int64"
      ]
     },
     "metadata": {},
     "execution_count": 11
    }
   ],
   "source": [
    "df[\"avg_atm_sea\"].value_counts()"
   ]
  },
  {
   "cell_type": "code",
   "execution_count": 12,
   "metadata": {},
   "outputs": [
    {
     "output_type": "execute_result",
     "data": {
      "text/plain": [
       "   year  month  day  avg_temp  max_temp  min_temp  avg_atm_sea  \\\n",
       "0  1991      1    1       5.3       9.6       0.0          NaN   \n",
       "1  1991      1    2       2.6       6.4       0.0          NaN   \n",
       "2  1991      1    3       2.3       5.2      -1.0          NaN   \n",
       "3  1991      1    4       3.9      10.0       0.0          NaN   \n",
       "4  1991      1    5       2.9      10.4      -3.0          NaN   \n",
       "\n",
       "   avg_atm_station  humidity  rain  avg_visibility  avg_wind  \\\n",
       "0              NaN      86.0   0.0             3.4       2.4   \n",
       "1              NaN      88.0   0.0             3.7       4.1   \n",
       "2              NaN      87.0   0.0             2.6       2.0   \n",
       "3              NaN      63.0   0.0             8.0       4.4   \n",
       "4              NaN      69.0   0.0            10.5       5.2   \n",
       "\n",
       "   max_sustained_wind  max_wind  occ_Fog  occ_Rain  occ_Snow  occ_Hail  \\\n",
       "0                13.0       NaN        1         0         0         0   \n",
       "1                11.1       NaN        1         0         0         0   \n",
       "2                 9.4       NaN        1         0         0         0   \n",
       "3                25.9       NaN        1         0         0         0   \n",
       "4                18.3       NaN        0         0         0         0   \n",
       "\n",
       "   occ_Thunder  occ_Tornado  \n",
       "0            0            0  \n",
       "1            0            0  \n",
       "2            0            0  \n",
       "3            0            0  \n",
       "4            0            0  "
      ],
      "text/html": "<div>\n<style scoped>\n    .dataframe tbody tr th:only-of-type {\n        vertical-align: middle;\n    }\n\n    .dataframe tbody tr th {\n        vertical-align: top;\n    }\n\n    .dataframe thead th {\n        text-align: right;\n    }\n</style>\n<table border=\"1\" class=\"dataframe\">\n  <thead>\n    <tr style=\"text-align: right;\">\n      <th></th>\n      <th>year</th>\n      <th>month</th>\n      <th>day</th>\n      <th>avg_temp</th>\n      <th>max_temp</th>\n      <th>min_temp</th>\n      <th>avg_atm_sea</th>\n      <th>avg_atm_station</th>\n      <th>humidity</th>\n      <th>rain</th>\n      <th>avg_visibility</th>\n      <th>avg_wind</th>\n      <th>max_sustained_wind</th>\n      <th>max_wind</th>\n      <th>occ_Fog</th>\n      <th>occ_Rain</th>\n      <th>occ_Snow</th>\n      <th>occ_Hail</th>\n      <th>occ_Thunder</th>\n      <th>occ_Tornado</th>\n    </tr>\n  </thead>\n  <tbody>\n    <tr>\n      <th>0</th>\n      <td>1991</td>\n      <td>1</td>\n      <td>1</td>\n      <td>5.3</td>\n      <td>9.6</td>\n      <td>0.0</td>\n      <td>NaN</td>\n      <td>NaN</td>\n      <td>86.0</td>\n      <td>0.0</td>\n      <td>3.4</td>\n      <td>2.4</td>\n      <td>13.0</td>\n      <td>NaN</td>\n      <td>1</td>\n      <td>0</td>\n      <td>0</td>\n      <td>0</td>\n      <td>0</td>\n      <td>0</td>\n    </tr>\n    <tr>\n      <th>1</th>\n      <td>1991</td>\n      <td>1</td>\n      <td>2</td>\n      <td>2.6</td>\n      <td>6.4</td>\n      <td>0.0</td>\n      <td>NaN</td>\n      <td>NaN</td>\n      <td>88.0</td>\n      <td>0.0</td>\n      <td>3.7</td>\n      <td>4.1</td>\n      <td>11.1</td>\n      <td>NaN</td>\n      <td>1</td>\n      <td>0</td>\n      <td>0</td>\n      <td>0</td>\n      <td>0</td>\n      <td>0</td>\n    </tr>\n    <tr>\n      <th>2</th>\n      <td>1991</td>\n      <td>1</td>\n      <td>3</td>\n      <td>2.3</td>\n      <td>5.2</td>\n      <td>-1.0</td>\n      <td>NaN</td>\n      <td>NaN</td>\n      <td>87.0</td>\n      <td>0.0</td>\n      <td>2.6</td>\n      <td>2.0</td>\n      <td>9.4</td>\n      <td>NaN</td>\n      <td>1</td>\n      <td>0</td>\n      <td>0</td>\n      <td>0</td>\n      <td>0</td>\n      <td>0</td>\n    </tr>\n    <tr>\n      <th>3</th>\n      <td>1991</td>\n      <td>1</td>\n      <td>4</td>\n      <td>3.9</td>\n      <td>10.0</td>\n      <td>0.0</td>\n      <td>NaN</td>\n      <td>NaN</td>\n      <td>63.0</td>\n      <td>0.0</td>\n      <td>8.0</td>\n      <td>4.4</td>\n      <td>25.9</td>\n      <td>NaN</td>\n      <td>1</td>\n      <td>0</td>\n      <td>0</td>\n      <td>0</td>\n      <td>0</td>\n      <td>0</td>\n    </tr>\n    <tr>\n      <th>4</th>\n      <td>1991</td>\n      <td>1</td>\n      <td>5</td>\n      <td>2.9</td>\n      <td>10.4</td>\n      <td>-3.0</td>\n      <td>NaN</td>\n      <td>NaN</td>\n      <td>69.0</td>\n      <td>0.0</td>\n      <td>10.5</td>\n      <td>5.2</td>\n      <td>18.3</td>\n      <td>NaN</td>\n      <td>0</td>\n      <td>0</td>\n      <td>0</td>\n      <td>0</td>\n      <td>0</td>\n      <td>0</td>\n    </tr>\n  </tbody>\n</table>\n</div>"
     },
     "metadata": {},
     "execution_count": 12
    }
   ],
   "source": [
    "df = df.replace(\"-\", np.NaN)\n",
    "df.head()"
   ]
  },
  {
   "cell_type": "code",
   "execution_count": 13,
   "metadata": {},
   "outputs": [
    {
     "output_type": "execute_result",
     "data": {
      "text/plain": [
       "year                  False\n",
       "month                 False\n",
       "day                   False\n",
       "avg_temp              False\n",
       "max_temp              False\n",
       "min_temp              False\n",
       "avg_atm_sea            True\n",
       "avg_atm_station        True\n",
       "humidity               True\n",
       "rain                   True\n",
       "avg_visibility        False\n",
       "avg_wind              False\n",
       "max_sustained_wind     True\n",
       "max_wind               True\n",
       "occ_Fog               False\n",
       "occ_Rain              False\n",
       "occ_Snow              False\n",
       "occ_Hail              False\n",
       "occ_Thunder           False\n",
       "occ_Tornado           False\n",
       "dtype: bool"
      ]
     },
     "metadata": {},
     "execution_count": 13
    }
   ],
   "source": [
    "df.isna().any()"
   ]
  },
  {
   "cell_type": "code",
   "execution_count": 14,
   "metadata": {},
   "outputs": [
    {
     "output_type": "execute_result",
     "data": {
      "text/plain": [
       "year                     0\n",
       "month                    0\n",
       "day                      0\n",
       "avg_temp                 0\n",
       "max_temp                 0\n",
       "min_temp                 0\n",
       "avg_atm_sea            925\n",
       "avg_atm_station        274\n",
       "humidity                 4\n",
       "rain                     2\n",
       "avg_visibility           0\n",
       "avg_wind                 0\n",
       "max_sustained_wind       5\n",
       "max_wind              1503\n",
       "occ_Fog                  0\n",
       "occ_Rain                 0\n",
       "occ_Snow                 0\n",
       "occ_Hail                 0\n",
       "occ_Thunder              0\n",
       "occ_Tornado              0\n",
       "dtype: int64"
      ]
     },
     "metadata": {},
     "execution_count": 14
    }
   ],
   "source": [
    "df.isnull().sum()"
   ]
  },
  {
   "cell_type": "code",
   "execution_count": 16,
   "metadata": {},
   "outputs": [
    {
     "output_type": "execute_result",
     "data": {
      "text/plain": [
       "avg_temp                14.446057\n",
       "max_temp                21.146331\n",
       "min_temp                 7.775685\n",
       "avg_atm_sea           1017.692342\n",
       "avg_atm_station        950.897229\n",
       "humidity                58.526894\n",
       "rain                     1.075214\n",
       "avg_visibility          10.882037\n",
       "avg_wind                 9.355641\n",
       "max_sustained_wind      22.518177\n",
       "max_wind                48.328483\n",
       "dtype: float64"
      ]
     },
     "metadata": {},
     "execution_count": 16
    }
   ],
   "source": [
    "df[['avg_temp', 'max_temp', 'min_temp', 'avg_atm_sea', 'avg_atm_station', 'humidity', 'rain', 'avg_visibility', 'avg_wind', 'max_sustained_wind', 'max_wind']].mean()"
   ]
  },
  {
   "cell_type": "code",
   "execution_count": 17,
   "metadata": {},
   "outputs": [],
   "source": [
    "df['humidity'].fillna(value = df['humidity'].mean(), inplace=True)\n",
    "df['rain'].fillna(value = df['rain'].mean(), inplace=True)\n",
    "df['avg_atm_sea'].fillna(value = df['avg_atm_sea'].mean(), inplace=True)\n",
    "df['avg_atm_station'].fillna(value = df['avg_atm_station'].mean(), inplace=True)\n",
    "df['max_sustained_wind'].fillna(value = df['max_sustained_wind'].mean(), inplace=True)\n",
    "df['max_wind'].fillna(value = df['max_wind'].mean(), inplace=True)"
   ]
  },
  {
   "cell_type": "code",
   "execution_count": 18,
   "metadata": {},
   "outputs": [
    {
     "output_type": "execute_result",
     "data": {
      "text/plain": [
       "year                  0\n",
       "month                 0\n",
       "day                   0\n",
       "avg_temp              0\n",
       "max_temp              0\n",
       "min_temp              0\n",
       "avg_atm_sea           0\n",
       "avg_atm_station       0\n",
       "humidity              0\n",
       "rain                  0\n",
       "avg_visibility        0\n",
       "avg_wind              0\n",
       "max_sustained_wind    0\n",
       "max_wind              0\n",
       "occ_Fog               0\n",
       "occ_Rain              0\n",
       "occ_Snow              0\n",
       "occ_Hail              0\n",
       "occ_Thunder           0\n",
       "occ_Tornado           0\n",
       "dtype: int64"
      ]
     },
     "metadata": {},
     "execution_count": 18
    }
   ],
   "source": [
    "df.isnull().sum()"
   ]
  },
  {
   "source": [
    "## temperature"
   ],
   "cell_type": "markdown",
   "metadata": {}
  },
  {
   "cell_type": "code",
   "execution_count": 22,
   "metadata": {},
   "outputs": [
    {
     "output_type": "execute_result",
     "data": {
      "text/plain": [
       "count    1826.000000\n",
       "mean       14.446057\n",
       "std         7.827301\n",
       "min        -2.100000\n",
       "25%         8.100000\n",
       "50%        13.300000\n",
       "75%        20.800000\n",
       "max        32.100000\n",
       "Name: avg_temp, dtype: float64"
      ]
     },
     "metadata": {},
     "execution_count": 22
    }
   ],
   "source": [
    "df['avg_temp'].describe()"
   ]
  },
  {
   "cell_type": "code",
   "execution_count": null,
   "metadata": {},
   "outputs": [],
   "source": []
  },
  {
   "cell_type": "code",
   "execution_count": null,
   "metadata": {},
   "outputs": [],
   "source": []
  }
 ]
}