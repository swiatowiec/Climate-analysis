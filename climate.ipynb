{
 "metadata": {
  "language_info": {
   "codemirror_mode": {
    "name": "ipython",
    "version": 3
   },
   "file_extension": ".py",
   "mimetype": "text/x-python",
   "name": "python",
   "nbconvert_exporter": "python",
   "pygments_lexer": "ipython3",
   "version": "3.8.5"
  },
  "orig_nbformat": 2,
  "kernelspec": {
   "name": "python385jvsc74a57bd041a0396a08ea0ef5d632f3e150c6b4e8b46b8b1b559fc0bab567ed5ff3932c90",
   "display_name": "Python 3.8.5 64-bit (conda)"
  }
 },
 "nbformat": 4,
 "nbformat_minor": 2,
 "cells": [
  {
   "source": [
    "# Climate analysis"
   ],
   "cell_type": "markdown",
   "metadata": {}
  },
  {
   "cell_type": "code",
   "execution_count": 1,
   "metadata": {},
   "outputs": [],
   "source": [
    "import pandas as pd \n",
    "import numpy as np \n",
    "import seaborn as sb\n",
    "import matplotlib.pyplot as plt\n",
    "from matplotlib import style \n"
   ]
  },
  {
   "cell_type": "code",
   "execution_count": 2,
   "metadata": {},
   "outputs": [
    {
     "output_type": "execute_result",
     "data": {
      "text/plain": [
       "      Y  M  D    T    TM   Tm SLP STP   H PP    VV    V    VM VG  FG  RA  SN  \\\n",
       "0  1991  1  1  5.3   9.6  0.0   -   -  86  0   3.4  2.4    13  -   1   0   0   \n",
       "1  1991  1  2  2.6   6.4  0.0   -   -  88  0   3.7  4.1  11.1  -   1   0   0   \n",
       "2  1991  1  3  2.3   5.2 -1.0   -   -  87  0   2.6  2.0   9.4  -   1   0   0   \n",
       "3  1991  1  4  3.9  10.0  0.0   -   -  63  0   8.0  4.4  25.9  -   1   0   0   \n",
       "4  1991  1  5  2.9  10.4 -3.0   -   -  69  0  10.5  5.2  18.3  -   0   0   0   \n",
       "\n",
       "   GR  TS  TR  \n",
       "0   0   0   0  \n",
       "1   0   0   0  \n",
       "2   0   0   0  \n",
       "3   0   0   0  \n",
       "4   0   0   0  "
      ],
      "text/html": "<div>\n<style scoped>\n    .dataframe tbody tr th:only-of-type {\n        vertical-align: middle;\n    }\n\n    .dataframe tbody tr th {\n        vertical-align: top;\n    }\n\n    .dataframe thead th {\n        text-align: right;\n    }\n</style>\n<table border=\"1\" class=\"dataframe\">\n  <thead>\n    <tr style=\"text-align: right;\">\n      <th></th>\n      <th>Y</th>\n      <th>M</th>\n      <th>D</th>\n      <th>T</th>\n      <th>TM</th>\n      <th>Tm</th>\n      <th>SLP</th>\n      <th>STP</th>\n      <th>H</th>\n      <th>PP</th>\n      <th>VV</th>\n      <th>V</th>\n      <th>VM</th>\n      <th>VG</th>\n      <th>FG</th>\n      <th>RA</th>\n      <th>SN</th>\n      <th>GR</th>\n      <th>TS</th>\n      <th>TR</th>\n    </tr>\n  </thead>\n  <tbody>\n    <tr>\n      <th>0</th>\n      <td>1991</td>\n      <td>1</td>\n      <td>1</td>\n      <td>5.3</td>\n      <td>9.6</td>\n      <td>0.0</td>\n      <td>-</td>\n      <td>-</td>\n      <td>86</td>\n      <td>0</td>\n      <td>3.4</td>\n      <td>2.4</td>\n      <td>13</td>\n      <td>-</td>\n      <td>1</td>\n      <td>0</td>\n      <td>0</td>\n      <td>0</td>\n      <td>0</td>\n      <td>0</td>\n    </tr>\n    <tr>\n      <th>1</th>\n      <td>1991</td>\n      <td>1</td>\n      <td>2</td>\n      <td>2.6</td>\n      <td>6.4</td>\n      <td>0.0</td>\n      <td>-</td>\n      <td>-</td>\n      <td>88</td>\n      <td>0</td>\n      <td>3.7</td>\n      <td>4.1</td>\n      <td>11.1</td>\n      <td>-</td>\n      <td>1</td>\n      <td>0</td>\n      <td>0</td>\n      <td>0</td>\n      <td>0</td>\n      <td>0</td>\n    </tr>\n    <tr>\n      <th>2</th>\n      <td>1991</td>\n      <td>1</td>\n      <td>3</td>\n      <td>2.3</td>\n      <td>5.2</td>\n      <td>-1.0</td>\n      <td>-</td>\n      <td>-</td>\n      <td>87</td>\n      <td>0</td>\n      <td>2.6</td>\n      <td>2.0</td>\n      <td>9.4</td>\n      <td>-</td>\n      <td>1</td>\n      <td>0</td>\n      <td>0</td>\n      <td>0</td>\n      <td>0</td>\n      <td>0</td>\n    </tr>\n    <tr>\n      <th>3</th>\n      <td>1991</td>\n      <td>1</td>\n      <td>4</td>\n      <td>3.9</td>\n      <td>10.0</td>\n      <td>0.0</td>\n      <td>-</td>\n      <td>-</td>\n      <td>63</td>\n      <td>0</td>\n      <td>8.0</td>\n      <td>4.4</td>\n      <td>25.9</td>\n      <td>-</td>\n      <td>1</td>\n      <td>0</td>\n      <td>0</td>\n      <td>0</td>\n      <td>0</td>\n      <td>0</td>\n    </tr>\n    <tr>\n      <th>4</th>\n      <td>1991</td>\n      <td>1</td>\n      <td>5</td>\n      <td>2.9</td>\n      <td>10.4</td>\n      <td>-3.0</td>\n      <td>-</td>\n      <td>-</td>\n      <td>69</td>\n      <td>0</td>\n      <td>10.5</td>\n      <td>5.2</td>\n      <td>18.3</td>\n      <td>-</td>\n      <td>0</td>\n      <td>0</td>\n      <td>0</td>\n      <td>0</td>\n      <td>0</td>\n      <td>0</td>\n    </tr>\n  </tbody>\n</table>\n</div>"
     },
     "metadata": {},
     "execution_count": 2
    }
   ],
   "source": [
    "df = pd.read_excel('82210-1.xlsx')\n",
    "df.head()"
   ]
  },
  {
   "source": [
    "df.shape"
   ],
   "cell_type": "code",
   "metadata": {},
   "execution_count": 3,
   "outputs": [
    {
     "output_type": "execute_result",
     "data": {
      "text/plain": [
       "(1826, 20)"
      ]
     },
     "metadata": {},
     "execution_count": 3
    }
   ]
  },
  {
   "cell_type": "code",
   "execution_count": 4,
   "metadata": {},
   "outputs": [],
   "source": [
    "df = df.rename(columns = {\"Y\" : 'year', \"M\" : 'month', \"D\" : \"day\", \"T\" : \"avg temp\", \"TM\" : \"max temp\", \"Tm\" : \"min temp\", \"SLP\" : \"avg atm sea\", \"STP\" : \"avg atm station\", \"H\" : \"humidity\", \"PP\" : \"rain\", \"VV\" : \"avg visibility\", \"V\" : \"avg wind\", \"VM\" : \"max sustained wind\" , \"VG\" : \"max wind\", \"FG\" : \"occ Fog\", \"RA\" : \"occ Rain\", \"SN\" : \"occ Snow\", \"GR\" : \"occ Hail\", \"TS\" : \"occ Thunder\", \"TR\" : \"occ Tornado\"})"
   ]
  },
  {
   "cell_type": "code",
   "execution_count": 5,
   "metadata": {},
   "outputs": [
    {
     "output_type": "execute_result",
     "data": {
      "text/plain": [
       "Index(['year', 'month', 'day', 'avg temp', 'max temp', 'min temp',\n",
       "       'avg atm sea', 'avg atm station', 'humidity', 'rain', 'avg visibility',\n",
       "       'avg wind', 'max sustained wind', 'max wind', 'occ Fog', 'occ Rain',\n",
       "       'occ Snow', 'occ Hail', 'occ Thunder', 'occ Tornado'],\n",
       "      dtype='object')"
      ]
     },
     "metadata": {},
     "execution_count": 5
    }
   ],
   "source": [
    "df.columns"
   ]
  },
  {
   "cell_type": "code",
   "execution_count": 6,
   "metadata": {},
   "outputs": [
    {
     "output_type": "execute_result",
     "data": {
      "text/plain": [
       "year                    int64\n",
       "month                   int64\n",
       "day                     int64\n",
       "avg temp              float64\n",
       "max temp              float64\n",
       "min temp              float64\n",
       "avg atm sea            object\n",
       "avg atm station        object\n",
       "humidity               object\n",
       "rain                   object\n",
       "avg visibility        float64\n",
       "avg wind              float64\n",
       "max sustained wind     object\n",
       "max wind               object\n",
       "occ Fog                 int64\n",
       "occ Rain                int64\n",
       "occ Snow                int64\n",
       "occ Hail                int64\n",
       "occ Thunder             int64\n",
       "occ Tornado             int64\n",
       "dtype: object"
      ]
     },
     "metadata": {},
     "execution_count": 6
    }
   ],
   "source": [
    "df.dtypes"
   ]
  }
 ]
}